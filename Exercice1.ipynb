{
 "cells": [
  {
   "cell_type": "code",
   "execution_count": null,
   "metadata": {},
   "outputs": [],
   "source": []
  },
  {
   "cell_type": "markdown",
   "metadata": {},
   "source": [
    "1. Qu'est-ce qu’un bot ?\n",
    "\n",
    "Un bot (c'est l'abréviation du mot robot) est un programme qui joue le rôle d'utilisateur.\n"
   ]
  },
  {
   "cell_type": "markdown",
   "metadata": {},
   "source": [
    "2. Qu'est ce que le logging. À quoi servent les logs?\n",
    "\n",
    "Le logging correspond à la gestion des logs. Et les logs sont des journaux d'événements qui notent les activités dans un système. Par exemple avec discord, un log peut collecter les connections."
   ]
  }
 ],
 "metadata": {
  "language_info": {
   "name": "python"
  },
  "orig_nbformat": 4
 },
 "nbformat": 4,
 "nbformat_minor": 2
}
